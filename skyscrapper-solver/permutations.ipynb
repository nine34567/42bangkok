{
  "nbformat": 4,
  "nbformat_minor": 0,
  "metadata": {
    "colab": {
      "provenance": [],
      "collapsed_sections": []
    },
    "kernelspec": {
      "name": "python3",
      "display_name": "Python 3"
    },
    "language_info": {
      "name": "python"
    }
  },
  "cells": [
    {
      "cell_type": "code",
      "execution_count": 2,
      "metadata": {
        "colab": {
          "base_uri": "https://localhost:8080/"
        },
        "id": "_Sz5znRZ19Eg",
        "outputId": "7afb183c-7bab-48f9-912f-384a3745a035"
      },
      "outputs": [
        {
          "output_type": "stream",
          "name": "stdout",
          "text": [
            "Would you enter the another member ? ( y / n ) : n\n",
            "['abcd', 'bacd', 'bcad', 'bcda', 'acbd', 'cabd', 'cbad', 'cbda', 'acdb', 'cadb', 'cdab', 'cdba', 'abdc', 'badc', 'bdac', 'bdca', 'adbc', 'dabc', 'dbac', 'dbca', 'adcb', 'dacb', 'dcab', 'dcba']\n"
          ]
        }
      ],
      "source": [
        "# Online Python compiler (interpreter) to run Python online.\n",
        "# Write Python 3 code in this online editor and run it.\n",
        "\n",
        "def permutations(per_list):\n",
        "    if len(per_list)==1:\n",
        "        return per_list\n",
        "\n",
        "    perms = permutations(per_list[1:])\n",
        "    char = per_list[0]\n",
        "    result = []\n",
        "\n",
        "    for perm in perms:\n",
        "        for i in range(len(perm)+1):\n",
        "            result.append(perm[:i] + char + perm[i:])\n",
        "    return result \n",
        "\n",
        "input_list = []\n",
        "while True:\n",
        "    #member = input(\"Please enter the member of list : \")\n",
        "    #input_list.append(member)\n",
        "    input_list = ['a', 'b', 'c', 'd']\n",
        "\n",
        "    choice= input(\"Would you enter the another member ? ( y / n ) : \")\n",
        "    if choice.casefold() == 'n' :\n",
        "        break\n",
        "\n",
        "print(permutations(input_list))"
      ]
    },
    {
      "cell_type": "code",
      "source": [],
      "metadata": {
        "id": "hFv2qGAy1-Ck"
      },
      "execution_count": null,
      "outputs": []
    }
  ]
}